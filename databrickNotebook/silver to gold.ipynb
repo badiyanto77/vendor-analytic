{
 "cells": [
  {
   "cell_type": "markdown",
   "metadata": {
    "application/vnd.databricks.v1+cell": {
     "cellMetadata": {
      "byteLimit": 2048000,
      "rowLimit": 10000
     },
     "inputWidgets": {},
     "nuid": "68cb116e-35a7-4b50-a348-9656ebc22dfd",
     "showTitle": false,
     "tableResultSettingsMap": {},
     "title": ""
    }
   },
   "source": [
    "## Transformation from silver to gold\n",
    "\n",
    "The objective of this transformation :\n",
    "- Tight coupled the data in relation therefore only necessary rows from corresponding table included in the migration"
   ]
  },
  {
   "cell_type": "code",
   "execution_count": 0,
   "metadata": {
    "application/vnd.databricks.v1+cell": {
     "cellMetadata": {
      "byteLimit": 2048000,
      "rowLimit": 10000
     },
     "inputWidgets": {},
     "nuid": "7d45957c-e43f-4be4-aed7-228801af02ba",
     "showTitle": false,
     "tableResultSettingsMap": {},
     "title": ""
    }
   },
   "outputs": [],
   "source": [
    "#Move order data from silver to gold\n",
    "df = spark.read.format('delta').load('/mnt/silver/Orders/')\n",
    "output_path = '/mnt/gold/Orders/' \n",
    "df.write.format('delta').mode(\"overwrite\").option(\"mergeSchema\", \"true\").save(output_path)"
   ]
  },
  {
   "cell_type": "code",
   "execution_count": 0,
   "metadata": {
    "application/vnd.databricks.v1+cell": {
     "cellMetadata": {
      "byteLimit": 2048000,
      "rowLimit": 10000
     },
     "inputWidgets": {},
     "nuid": "937ad4d2-3a17-46de-91ad-15c165eda597",
     "showTitle": false,
     "tableResultSettingsMap": {},
     "title": ""
    }
   },
   "outputs": [],
   "source": [
    "#Move order item data from silver to gold\n",
    "#Filter only order item that correspond to orders \n",
    "spark.read.format('delta').load('/mnt/silver/Orders/').createOrReplaceTempView(\"Order\")\n",
    "spark.read.format('delta').load('/mnt/silver/OrderItem/').createOrReplaceTempView(\"OrderItem\")\n",
    "dforderitem=spark.sql(\"SELECT i.ItemID, i.OrderID, i.ItemDescription, i.Quantity, i.ItemNumber, i.ListPrice, i.DiscountPrice FROM OrderItem i INNER JOIN Order o ON i.OrderID = o.OrderID\")\n",
    "output_path = '/mnt/gold/OrderItem/' \n",
    "dforderitem.write.format('delta').mode(\"overwrite\").option(\"mergeSchema\", \"true\").save(output_path)\n",
    "display(dforderitem)"
   ]
  },
  {
   "cell_type": "code",
   "execution_count": 0,
   "metadata": {
    "application/vnd.databricks.v1+cell": {
     "cellMetadata": {
      "byteLimit": 2048000,
      "rowLimit": 10000
     },
     "inputWidgets": {},
     "nuid": "874414c1-9a2c-49bc-b898-eefb30ae08ad",
     "showTitle": false,
     "tableResultSettingsMap": {},
     "title": ""
    }
   },
   "outputs": [],
   "source": [
    "#Move vendor data from silver to gold\n",
    "#Filter only vendor that correspond to orders \n",
    "spark.read.format('delta').load('/mnt/silver/Orders/').createOrReplaceTempView(\"Order\")\n",
    "spark.read.format('delta').load('/mnt/silver/Vendor/').createOrReplaceTempView(\"Vendor\")\n",
    "dfvendor=spark.sql(\"SELECT v.VendorID, v.VendorName FROM Vendor v WHERE v.VendorID IN(SELECT DISTINCT o.VendorID FROM Order o)\")\n",
    "output_path = '/mnt/gold/Vendor/' \n",
    "dfvendor.write.format('delta').mode(\"overwrite\").option(\"mergeSchema\", \"true\").save(output_path)\n",
    "display(dfvendor)"
   ]
  },
  {
   "cell_type": "code",
   "execution_count": 0,
   "metadata": {
    "application/vnd.databricks.v1+cell": {
     "cellMetadata": {
      "byteLimit": 2048000,
      "rowLimit": 10000
     },
     "inputWidgets": {},
     "nuid": "3ce8b4fa-e37c-41e5-8998-597117a3d2b4",
     "showTitle": false,
     "tableResultSettingsMap": {},
     "title": ""
    }
   },
   "outputs": [],
   "source": [
    "\n",
    "#Move item code data from silver to gold\n",
    "dfitemcode = spark.read.format('delta').load('/mnt/silver/ItemCode/')\n",
    "output_path = '/mnt/gold/ItemCode/' \n",
    "dfitemcode.write.format('delta').mode(\"overwrite\").option(\"mergeSchema\", \"true\").save(output_path)\n",
    "display(dfitemcode)\n",
    "\n",
    "\n"
   ]
  },
  {
   "cell_type": "code",
   "execution_count": 0,
   "metadata": {
    "application/vnd.databricks.v1+cell": {
     "cellMetadata": {
      "byteLimit": 2048000,
      "rowLimit": 10000
     },
     "inputWidgets": {},
     "nuid": "1096a915-282c-484d-8645-ab0bb785aaf3",
     "showTitle": false,
     "tableResultSettingsMap": {},
     "title": ""
    }
   },
   "outputs": [],
   "source": [
    "#Move order date calendar data from silver to gold\n",
    "dforderdatecalendar = spark.read.format('delta').load('/mnt/silver/OrderDateCalendar/')\n",
    "output_path = '/mnt/gold/OrderDateCalendar/' \n",
    "dforderdatecalendar.write.format('delta').mode(\"overwrite\").option(\"mergeSchema\", \"true\").save(output_path)\n",
    "display(dforderdatecalendar)"
   ]
  }
 ],
 "metadata": {
  "application/vnd.databricks.v1+notebook": {
   "computePreferences": null,
   "dashboards": [],
   "environmentMetadata": {
    "base_environment": "",
    "environment_version": "1"
   },
   "language": "python",
   "notebookMetadata": {
    "pythonIndentUnit": 4
   },
   "notebookName": "silver to gold",
   "widgets": {}
  },
  "language_info": {
   "name": "python"
  }
 },
 "nbformat": 4,
 "nbformat_minor": 0
}
